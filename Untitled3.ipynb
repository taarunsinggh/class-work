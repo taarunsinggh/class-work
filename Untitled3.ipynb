{
 "cells": [
  {
   "cell_type": "code",
   "execution_count": 1,
   "metadata": {},
   "outputs": [
    {
     "name": "stdout",
     "output_type": "stream",
     "text": [
      "Enter 'quit' when you are finished.\n",
      "\n",
      "What's your name? Tarun\n",
      "Hi Tarun, you've been added to the guest book.\n",
      "\n",
      "What's your name? quit\n"
     ]
    }
   ],
   "source": [
    "filename = 'guest_book.txt'\n",
    "\n",
    "print(\"Enter 'No' when you are finished.\")\n",
    "while True:\n",
    "    name = input(\"\\nWhat's your name? \")\n",
    "    if name == 'quit':\n",
    "        break\n",
    "    else:\n",
    "        with open(filename, 'a') as f:\n",
    "            f.write(name + \"\\n\")\n",
    "        print(\"Hi \" + name + \", you've been added to the guest book.\")"
   ]
  },
  {
   "cell_type": "code",
   "execution_count": null,
   "metadata": {},
   "outputs": [],
   "source": []
  }
 ],
 "metadata": {
  "kernelspec": {
   "display_name": "Python 3",
   "language": "python",
   "name": "python3"
  },
  "language_info": {
   "codemirror_mode": {
    "name": "ipython",
    "version": 3
   },
   "file_extension": ".py",
   "mimetype": "text/x-python",
   "name": "python",
   "nbconvert_exporter": "python",
   "pygments_lexer": "ipython3",
   "version": "3.7.0"
  }
 },
 "nbformat": 4,
 "nbformat_minor": 2
}
