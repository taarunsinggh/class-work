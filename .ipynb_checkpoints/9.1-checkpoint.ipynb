{
 "cells": [
  {
   "cell_type": "code",
   "execution_count": 19,
   "metadata": {},
   "outputs": [
    {
     "name": "stdout",
     "output_type": "stream",
     "text": [
      "Chillies\n",
      "Indian\n",
      "Chillies has amazing Indianfood.\n",
      "Chillies is open.\n"
     ]
    }
   ],
   "source": [
    "class Restaurant():\n",
    "    \"\"\"A class representing a restaurant.\"\"\"\n",
    "\n",
    "    def __init__(self, name, cuisine_type):\n",
    "        \"\"\"Initialize the restaurant.\"\"\"\n",
    "        self.name = name.title()\n",
    "        self.cuisine_type = cuisine_type\n",
    "\n",
    "    def describe_restaurant(self):\n",
    "        \"\"\"Display a summary of the restaurant.\"\"\"\n",
    "        print (self.name + \" has amazing \" + self.cuisine_type + \"food.\")\n",
    "        \n",
    "\n",
    "    def open_restaurant(self):\n",
    "        \"\"\"Display a message that the restaurant is open.\"\"\"\n",
    "        print (self.name + \" is open.\")\n",
    "        \n",
    "\n",
    "restro = Restaurant('Chillies', 'Indian')\n",
    "print(restro.name)\n",
    "print(restro.cuisine_type)\n",
    "restro.describe_restaurant()\n",
    "restro.open_restaurant()"
   ]
  },
  {
   "cell_type": "code",
   "execution_count": null,
   "metadata": {},
   "outputs": [],
   "source": []
  }
 ],
 "metadata": {
  "kernelspec": {
   "display_name": "Python 3",
   "language": "python",
   "name": "python3"
  },
  "language_info": {
   "codemirror_mode": {
    "name": "ipython",
    "version": 3
   },
   "file_extension": ".py",
   "mimetype": "text/x-python",
   "name": "python",
   "nbconvert_exporter": "python",
   "pygments_lexer": "ipython3",
   "version": "3.7.0"
  }
 },
 "nbformat": 4,
 "nbformat_minor": 2
}
